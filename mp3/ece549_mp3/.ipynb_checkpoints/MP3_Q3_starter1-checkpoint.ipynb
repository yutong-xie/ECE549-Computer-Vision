{
 "cells": [
  {
   "cell_type": "markdown",
   "metadata": {},
   "source": [
    "# Single-View Geometry (Python)\n",
    "\n",
    "## Usage\n",
    "This code snippet provides an overall code structure and some interactive plot interfaces for the *Single-View Geometry* section of Assignment 3. In [main function](#Main-function), we outline the required functionalities step by step. Some of the functions which involves interactive plots are already provided, but [the rest](#Your-implementation) are left for you to implement.\n",
    "\n",
    "## Package installation\n",
    "- You will need [GUI backend](https://matplotlib.org/faq/usage_faq.html#what-is-a-backend) to enable interactive plots in `matplotlib`.\n",
    "- In this code, we use `tkinter` package. Installation instruction can be found [here](https://anaconda.org/anaconda/tk)."
   ]
  },
  {
   "cell_type": "markdown",
   "metadata": {},
   "source": [
    "# Common imports"
   ]
  },
  {
   "cell_type": "code",
   "execution_count": 1,
   "metadata": {},
   "outputs": [],
   "source": [
    "%matplotlib tk\n",
    "import matplotlib.pyplot as plt\n",
    "import numpy as np\n",
    "import cv2\n",
    "import os\n",
    "from sympy import Symbol, Matrix, solve\n",
    "from PIL import Image\n",
    "import pickle"
   ]
  },
  {
   "cell_type": "markdown",
   "metadata": {},
   "source": [
    "# Provided functions"
   ]
  },
  {
   "cell_type": "code",
   "execution_count": 2,
   "metadata": {},
   "outputs": [],
   "source": [
    "def get_input_lines(im, min_lines=3):\n",
    "    \"\"\"\n",
    "    Allows user to input line segments; computes centers and directions.\n",
    "    Inputs:\n",
    "        im: np.ndarray of shape (height, width, 3)\n",
    "        min_lines: minimum number of lines required\n",
    "    Returns:\n",
    "        n: number of lines from input\n",
    "        lines: np.ndarray of shape (3, n)\n",
    "            where each column denotes the parameters of the line equation\n",
    "        centers: np.ndarray of shape (3, n)\n",
    "            where each column denotes the homogeneous coordinates of the centers\n",
    "    \"\"\"\n",
    "    n = 0\n",
    "    lines = np.zeros((3, 0))\n",
    "    centers = np.zeros((3, 0))\n",
    "\n",
    "    plt.figure()\n",
    "    plt.imshow(im)\n",
    "    print('Set at least {} lines to compute vanishing point'.format(min_lines))\n",
    "    while True:\n",
    "        print('Click the two endpoints, use the right key to undo, and use the middle key to stop input')\n",
    "        clicked = plt.ginput(2, timeout=0, show_clicks=True)\n",
    "        if not clicked or len(clicked) < 2:\n",
    "            if n < min_lines:\n",
    "                print('Need at least {} lines, you have {} now'.format(min_lines, n))\n",
    "                continue\n",
    "            else:\n",
    "                # Stop getting lines if number of lines is enough\n",
    "                break\n",
    "\n",
    "        # Unpack user inputs and save as homogeneous coordinates\n",
    "        pt1 = np.array([clicked[0][0], clicked[0][1], 1])\n",
    "        pt2 = np.array([clicked[1][0], clicked[1][1], 1])\n",
    "        print(\"pt1:\", pt1)\n",
    "        print(\"pt2:\", pt2)\n",
    "        # Get line equation using cross product\n",
    "        # Line equation: line[0] * x + line[1] * y + line[2] = 0\n",
    "        line = np.cross(pt1, pt2)\n",
    "        lines = np.append(lines, line.reshape((3, 1)), axis=1)\n",
    "        # Get center coordinate of the line segment\n",
    "        center = (pt1 + pt2) / 2\n",
    "        centers = np.append(centers, center.reshape((3, 1)), axis=1)\n",
    "\n",
    "        # Plot line segment\n",
    "        plt.plot([pt1[0], pt2[0]], [pt1[1], pt2[1]], color='b')\n",
    "\n",
    "        n += 1\n",
    "\n",
    "    return n, lines, centers"
   ]
  },
  {
   "cell_type": "code",
   "execution_count": 3,
   "metadata": {},
   "outputs": [],
   "source": [
    "def plot_lines_and_vp(ax, im, lines, vp):\n",
    "    \"\"\"\n",
    "    Plots user-input lines and the calculated vanishing point.\n",
    "    Inputs:\n",
    "        im: np.ndarray of shape (height, width, 3)\n",
    "        lines: np.ndarray of shape (3, n)\n",
    "            where each column denotes the parameters of the line equation\n",
    "        vp: np.ndarray of shape (3, )\n",
    "    \"\"\"\n",
    "    bx1 = min(1, vp[0] / vp[2]) - 10\n",
    "    bx2 = max(im.shape[1], vp[0] / vp[2]) + 10\n",
    "    by1 = min(1, vp[1] / vp[2]) - 10\n",
    "    by2 = max(im.shape[0], vp[1] / vp[2]) + 10\n",
    "    \n",
    "    ax.imshow(im)\n",
    "    for i in range(lines.shape[1]):\n",
    "        if lines[0, i] < lines[1, i]:\n",
    "            pt1 = np.cross(np.array([1, 0, -bx1]), lines[:, i])\n",
    "            pt2 = np.cross(np.array([1, 0, -bx2]), lines[:, i])\n",
    "        else:\n",
    "            pt1 = np.cross(np.array([0, 1, -by1]), lines[:, i])\n",
    "            pt2 = np.cross(np.array([0, 1, -by2]), lines[:, i])\n",
    "        pt1 = pt1 / pt1[2]\n",
    "        pt2 = pt2 / pt2[2]\n",
    "        ax.plot([pt1[0], pt2[0]], [pt1[1], pt2[1]], 'g')\n",
    "\n",
    "    ax.plot(vp[0] / vp[2], vp[1] / vp[2], 'ro')\n",
    "    ax.set_xlim([bx1, bx2])\n",
    "    ax.set_ylim([by2, by1])"
   ]
  },
  {
   "cell_type": "markdown",
   "metadata": {},
   "source": [
    "# Your implementation"
   ]
  },
  {
   "cell_type": "code",
   "execution_count": 4,
   "metadata": {},
   "outputs": [],
   "source": [
    "def get_vanishing_point(lines):\n",
    "    \"\"\"\n",
    "    Solves for the vanishing point using the user-input lines.\n",
    "    \"\"\"\n",
    "    # <YOUR CODE>\n",
    "    lines = np.array(lines)\n",
    "    vp = np.zeros(3)\n",
    "    n = len(lines)\n",
    "    for i in range(n):\n",
    "        for j in range(i, n):\n",
    "            print(\"line i\", lines[:, i])\n",
    "            print(\"line j\", lines[:, j])\n",
    "            vp += np.cross(lines[:, i], lines[:, j])\n",
    "    vp /= n\n",
    "    print(vp)\n",
    "    return vp"
   ]
  },
  {
   "cell_type": "code",
   "execution_count": 5,
   "metadata": {},
   "outputs": [],
   "source": [
    "def get_horizon_line(vpts):\n",
    "    \"\"\"\n",
    "    Calculates the ground horizon line.\n",
    "    \"\"\"\n",
    "    # <YOUR CODE>\n",
    "    x, y = vpts[:, 0], vpts[:, 1]\n",
    "    a, b, c = np.cross(x, y)\n",
    "    scale = (a**2 + b**2)**0.5\n",
    "    line = np.array([a, b, c]) / scale\n",
    "    return line"
   ]
  },
  {
   "cell_type": "code",
   "execution_count": 6,
   "metadata": {},
   "outputs": [],
   "source": [
    "def plot_horizon_line(img, line):\n",
    "    \"\"\"\n",
    "    Plots the horizon line.\n",
    "    \"\"\"\n",
    "    # <YOUR CODE>\n",
    "    # stored in [A, B, C] where Ax + By + C = 0\n",
    "    A = line[0]\n",
    "    B = line[1]\n",
    "    C = line[2]\n",
    "    k = -A / B\n",
    "    m = -C / B\n",
    "    x = np.linspace(0,img.shape[1])\n",
    "    y = k * x + m\n",
    "    plt.figure()\n",
    "    plt.imshow(img)\n",
    "    plt.plot(x, y)\n",
    "    plt.show()\n",
    "\n",
    "    "
   ]
  },
  {
   "cell_type": "code",
   "execution_count": 7,
   "metadata": {},
   "outputs": [],
   "source": [
    "def get_camera_parameters(vpts):\n",
    "    \"\"\"\n",
    "    Computes the camera parameters. Hint: The SymPy package is suitable for this.\n",
    "    \"\"\"\n",
    "    # <YOUR CODE>\n",
    "    vp1 = Matrix(vpts[:, 0].T)\n",
    "    vp2 = Matrix(vpts[:, 1].T)\n",
    "    vp3 = Matrix(vpts[:, 2].T)\n",
    " \n",
    "    f, px, py = Symbol('f'), Symbol('px'), Symbol('py')\n",
    "    K = Matrix( \n",
    "        ((f, 0, px),\n",
    "         (0, f, py), \n",
    "         (0, 0, 1)) )\n",
    "    K_inv = K.inv()\n",
    "    ans = solve([\n",
    "        vp1.T * K_inv.T * K_inv * vp2,\n",
    "        vp1.T * K_inv.T * K_inv * vp3,\n",
    "        vp2.T * K_inv.T * K_inv * vp3], [f, px, py])\n",
    "    \n",
    "    f, px, py = ans[0]\n",
    "    K = np.array([\n",
    "        [f, 0, px],\n",
    "        [0, f, py], \n",
    "        [0, 0, 1]\n",
    "    ])\n",
    "    return f, px, py, K"
   ]
  },
  {
   "cell_type": "code",
   "execution_count": 8,
   "metadata": {},
   "outputs": [],
   "source": [
    "def get_rotation_matrix(K, vpts):\n",
    "    \"\"\"\n",
    "    Computes the rotation matrix using the camera parameters.\n",
    "    \"\"\"\n",
    "    # <YOUR CODE>\n",
    "    vp1 = vpts[:, 1].T\n",
    "    vp2 = vpts[:, 2].T\n",
    "    vp3 = vpts[:, 0].T\n",
    "    K_f=np.matrix(K, dtype='float')\n",
    "    K_inv = np.linalg.inv(K_f)\n",
    "    \n",
    "    r1 = np.dot(K_inv, vp1)\n",
    "    r2 = np.dot(K_inv, vp2)\n",
    "    r3 = np.dot(K_inv, vp3)\n",
    "    \n",
    "    r1 =  r1 / np.linalg.norm(r1)\n",
    "    r2 =  r2 / np.linalg.norm(r2)\n",
    "    r3 =  r3 / np.linalg.norm(r3)\n",
    "    R = np.vstack((r1, r2, r3)).T\n",
    "    \n",
    "    return R"
   ]
  },
  {
   "cell_type": "code",
   "execution_count": null,
   "metadata": {},
   "outputs": [],
   "source": [
    "# def get_homography(...):\n",
    "#     \"\"\"\n",
    "#     Compute homography for transforming the image into fronto-parallel \n",
    "#     views along the different axes.\n",
    "#     \"\"\"\n",
    "#     # <YOUR CODE>\n",
    "#     pass"
   ]
  },
  {
   "cell_type": "code",
   "execution_count": null,
   "metadata": {},
   "outputs": [],
   "source": [
    "# def get_rotation_matrix_rectification(...):\n",
    "#     \"\"\"\n",
    "#     Compute the rotation matrix that will be used to compute the \n",
    "#     homography for rectification.\n",
    "#     \"\"\"\n",
    "#     # <YOUR CODE>\n",
    "#     pass"
   ]
  },
  {
   "cell_type": "markdown",
   "metadata": {},
   "source": [
    "# Main function"
   ]
  },
  {
   "cell_type": "code",
   "execution_count": 9,
   "metadata": {},
   "outputs": [],
   "source": [
    "im = np.asarray(Image.open('./data/Q3/eceb.png'))\n",
    "\n",
    "# Also loads the vanishing line data if it exists in data.pickle file. \n",
    "# data.pickle is written using snippet in the next cell.\n",
    "if os.path.exists('data.pickle'):\n",
    "    with open('data.pickle', 'rb') as f:\n",
    "        all_n, all_lines, all_centers = pickle.load(f)"
   ]
  },
  {
   "cell_type": "code",
   "execution_count": 10,
   "metadata": {},
   "outputs": [
    {
     "name": "stdout",
     "output_type": "stream",
     "text": [
      "Getting vanishing point 0\n",
      "Set at least 3 lines to compute vanishing point\n",
      "Click the two endpoints, use the right key to undo, and use the middle key to stop input\n",
      "pt1: [1.96687662e+03 6.28694805e+02 1.00000000e+00]\n",
      "pt2: [1.75077273e+03 1.26869481e+03 1.00000000e+00]\n",
      "Click the two endpoints, use the right key to undo, and use the middle key to stop input\n",
      "pt1: [1.48895455e+03 1.22298052e+03 1.00000000e+00]\n",
      "pt2: [1.44739610e+03 1.41830519e+03 1.00000000e+00]\n",
      "Click the two endpoints, use the right key to undo, and use the middle key to stop input\n",
      "pt1: [1.12739610e+03 1.30194156e+03 1.00000000e+00]\n",
      "pt2: [1.12324026e+03 1.48064286e+03 1.00000000e+00]\n",
      "Click the two endpoints, use the right key to undo, and use the middle key to stop input\n",
      "Getting vanishing point 1\n",
      "Set at least 3 lines to compute vanishing point\n",
      "Click the two endpoints, use the right key to undo, and use the middle key to stop input\n",
      "pt1: [1.58869481e+03 6.53629870e+02 1.00000000e+00]\n",
      "pt2: [1.36427922e+03 5.45577922e+02 1.00000000e+00]\n",
      "Click the two endpoints, use the right key to undo, and use the middle key to stop input\n",
      "pt1: [1.43908442e+03 7.03500000e+02 1.00000000e+00]\n",
      "pt2: [1.28531818e+03 6.07915584e+02 1.00000000e+00]\n",
      "Click the two endpoints, use the right key to undo, and use the middle key to stop input\n",
      "pt1: [1.02350000e+03 8.82201299e+02 1.00000000e+00]\n",
      "pt2: [965.31818182 765.83766234   1.        ]\n",
      "Click the two endpoints, use the right key to undo, and use the middle key to stop input\n",
      "Getting vanishing point 2\n",
      "Set at least 3 lines to compute vanishing point\n",
      "Click the two endpoints, use the right key to undo, and use the middle key to stop input\n",
      "pt1: [3.87655844e+02 1.18557792e+03 1.00000000e+00]\n",
      "pt2: [7.65837662e+02 1.11908442e+03 1.00000000e+00]\n",
      "Click the two endpoints, use the right key to undo, and use the middle key to stop input\n",
      "pt1: [1.18142208e+03 1.26038312e+03 1.00000000e+00]\n",
      "pt2: [1.38921429e+03 1.21882468e+03 1.00000000e+00]\n",
      "Click the two endpoints, use the right key to undo, and use the middle key to stop input\n",
      "pt1: [1.69259091e+03 6.49474026e+02 1.00000000e+00]\n",
      "pt2: [1.86713636e+03 6.28694805e+02 1.00000000e+00]\n",
      "Click the two endpoints, use the right key to undo, and use the middle key to stop input\n"
     ]
    }
   ],
   "source": [
    "# Click and save the line data for vanishing points. This snippet \n",
    "# opens up an interface for selecting points and writes them to \n",
    "# data.pickle file. The file is over-written.\n",
    "\n",
    "num_vpts = 3\n",
    "all_n, all_lines, all_centers = [], [], []\n",
    "\n",
    "for i in range(num_vpts):\n",
    "    print('Getting vanishing point {}'.format(i))\n",
    "    # fig = plt.figure(); ax = fig.gca()\n",
    "    \n",
    "    # Get at least three lines from user input\n",
    "    n_i, lines_i, centers_i = get_input_lines(im)\n",
    "    all_n.append(n_i)\n",
    "    all_lines.append(lines_i)\n",
    "    all_centers.append(centers_i)\n",
    "\n",
    "with open('data.pickle', 'wb') as f:\n",
    "    pickle.dump([all_n, all_lines, all_centers], f)"
   ]
  },
  {
   "cell_type": "code",
   "execution_count": 11,
   "metadata": {},
   "outputs": [
    {
     "name": "stdout",
     "output_type": "stream",
     "text": [
      "line i [-6.40000000e+02 -2.16103896e+02  1.39466444e+06]\n",
      "line j [-6.40000000e+02 -2.16103896e+02  1.39466444e+06]\n",
      "line i [-6.40000000e+02 -2.16103896e+02  1.39466444e+06]\n",
      "line j [-1.95324675e+02 -4.15584416e+01  3.41654728e+05]\n",
      "line i [-6.40000000e+02 -2.16103896e+02  1.39466444e+06]\n",
      "line j [-1.78701299e+02 -4.15584416e+00  2.06877814e+05]\n",
      "line i [-1.95324675e+02 -4.15584416e+01  3.41654728e+05]\n",
      "line j [-1.95324675e+02 -4.15584416e+01  3.41654728e+05]\n",
      "line i [-1.95324675e+02 -4.15584416e+01  3.41654728e+05]\n",
      "line j [-1.78701299e+02 -4.15584416e+00  2.06877814e+05]\n",
      "line i [-1.78701299e+02 -4.15584416e+00  2.06877814e+05]\n",
      "line j [-1.78701299e+02 -4.15584416e+00  2.06877814e+05]\n",
      "[-2.06538622e+07 -6.37418997e+07 -1.93953786e+04]\n",
      "line i [   108.05194805   -224.41558442 -24976.83926463]\n",
      "line j [   108.05194805   -224.41558442 -24976.83926463]\n",
      "line i [   108.05194805   -224.41558442 -24976.83926463]\n",
      "line j [    95.58441558   -153.76623377 -29379.49738573]\n",
      "line i [   108.05194805   -224.41558442 -24976.83926463]\n",
      "line j [ 1.16363636e+02 -5.81818182e+01 -6.77701063e+04]\n",
      "line i [    95.58441558   -153.76623377 -29379.49738573]\n",
      "line j [    95.58441558   -153.76623377 -29379.49738573]\n",
      "line i [    95.58441558   -153.76623377 -29379.49738573]\n",
      "line j [ 1.16363636e+02 -5.81818182e+01 -6.77701063e+04]\n",
      "line i [ 1.16363636e+02 -5.81818182e+01 -6.77701063e+04]\n",
      "line j [ 1.16363636e+02 -5.81818182e+01 -6.77701063e+04]\n",
      "[8406498.02577254 2754157.45017338   12331.52302243]\n",
      "line i [ 6.64935065e+01  3.78181818e+02 -4.74140611e+05]\n",
      "line j [ 6.64935065e+01  3.78181818e+02 -4.74140611e+05]\n",
      "line i [ 6.64935065e+01  3.78181818e+02 -4.74140611e+05]\n",
      "line j [ 4.15584416e+01  2.07792208e+02 -3.10995851e+05]\n",
      "line i [ 6.64935065e+01  3.78181818e+02 -4.74140611e+05]\n",
      "line j [ 2.07792208e+01  1.74545455e+02 -1.48533459e+05]\n",
      "line i [ 4.15584416e+01  2.07792208e+02 -3.10995851e+05]\n",
      "line j [ 4.15584416e+01  2.07792208e+02 -3.10995851e+05]\n",
      "line i [ 4.15584416e+01  2.07792208e+02 -3.10995851e+05]\n",
      "line j [ 2.07792208e+01  1.74545455e+02 -1.48533459e+05]\n",
      "line i [ 2.07792208e+01  1.74545455e+02 -1.48533459e+05]\n",
      "line j [ 2.07792208e+01  1.74545455e+02 -1.48533459e+05]\n",
      "[1.03049998e+07 2.36488509e+05 1.59469275e+03]\n"
     ]
    }
   ],
   "source": [
    "# Part (a)\n",
    "# Computing vanishing points for each of the directions\n",
    "vpts = np.zeros((3, num_vpts))\n",
    "\n",
    "for i in range(num_vpts):\n",
    "    fig = plt.figure(); ax = fig.gca()\n",
    "    # <YOUR CODE> Solve for vanishing point\n",
    "    lines = all_lines[i]\n",
    "    vpts[:, i] = get_vanishing_point(lines)\n",
    "    \n",
    "    # Plot the lines and the vanishing point\n",
    "    plot_lines_and_vp(ax, im, all_lines[i], vpts[:, i])\n",
    "    fig.savefig('Q3_vp{:d}.pdf'.format(i), bbox_inches='tight')"
   ]
  },
  {
   "cell_type": "code",
   "execution_count": 12,
   "metadata": {},
   "outputs": [],
   "source": [
    "# Part (b) Computing and plotting the horizon\n",
    "# <YOUR CODE> Get the ground horizon line\n",
    "horizon_line = get_horizon_line(vpts)\n",
    "\n",
    "# <YOUR CODE> Plot the ground horizon line\n",
    "# fig = plt.figure(); ax = fig.gca()\n",
    "plot_horizon_line(im, horizon_line)\n",
    "fig.savefig('Q3_horizon.pdf', bbox_inches='tight')"
   ]
  },
  {
   "cell_type": "code",
   "execution_count": null,
   "metadata": {},
   "outputs": [],
   "source": [
    "# Part (c) Computing Camera Parameters\n",
    "# <YOUR CODE> Solve for the camera parameters (f, u, v)\n",
    "f, u, v, K = get_camera_parameters(vpts)\n",
    "print(u, v, f, K)"
   ]
  },
  {
   "cell_type": "code",
   "execution_count": 53,
   "metadata": {},
   "outputs": [
    {
     "name": "stdout",
     "output_type": "stream",
     "text": [
      "[[-0.92497935  0.25315739 -0.28341584]\n",
      " [ 0.10073277 -0.55578072 -0.82520343]\n",
      " [-0.36642341 -0.79184539  0.48858444]]\n"
     ]
    }
   ],
   "source": [
    "# Part (d) Computing Rotation Matrices\n",
    "# <YOUR CODE> Solve for the rotation matrix\n",
    "R = get_rotation_matrix(K, vpts)\n",
    "print(R)"
   ]
  },
  {
   "cell_type": "code",
   "execution_count": null,
   "metadata": {},
   "outputs": [],
   "source": [
    "def get_rotation_matrix_rectification(R, axis='z'):\n",
    "    \"\"\"\n",
    "    Compute the rotation matrix that will be used to compute the \n",
    "    homography for rectification.\n",
    "    \"\"\"\n",
    "    if axis == 'y':\n",
    "        R_ = np.array([[1,0,0],[0,0,1],[0,-1,0]])\n",
    "    elif axis == 'z':\n",
    "        R_ = np.array([[0,0,1],[0,1,0],[-1,0,0]])\n",
    "    elif axis == 'x':\n",
    "        R_ = np.array([[0,1,0],[1,0,0],[0,0,-1]])\n",
    "    \n",
    "    return R_.dot(np.linalg.inv(R))"
   ]
  },
  {
   "cell_type": "code",
   "execution_count": null,
   "metadata": {},
   "outputs": [],
   "source": [
    "def get_fronto_image(H,img):\n",
    "    transform = skimage.transform.ProjectiveTransform(H)\n",
    "    h, w, _ = img.shape\n",
    "    raw = np.array([[0, 0], [0, h], [w, h], [w, 0]])\n",
    "    trans = transform(raw)\n",
    "    \n",
    "    min_dot = np.int32(trans.min(axis=0))\n",
    "    max_dot = np.int32(trans.max(axis=0))\n",
    "\n",
    "    fronto_image = cv2.warpPerspective(img, H, tuple(max_dot - min_dot)) \n",
    "    \n",
    "    return fronto_image\n"
   ]
  },
  {
   "cell_type": "code",
   "execution_count": null,
   "metadata": {},
   "outputs": [],
   "source": [
    "# Part (e) Generating fronto-parallel warps. Compute the \n",
    "# appropriate rotation to transform the world coordinates\n",
    "# such that the axis of projection becomes the world\n",
    "# X, Y and Z axes respectively. Use this rotation to estimate\n",
    "# a homography that will be used to compute the output view.\n",
    "# Apply the homography to generate the 3 fronto-parallel\n",
    "# views and save them.\n",
    "im = cv2.cvtColor(im, cv2.COLOR_BGR2RGB)\n",
    "# Rt = get_rotation_matrix_rectification(R,'z')\n",
    "# H = get_homography(K,Rt)\n",
    "# fronto_im = get_fronto_image(H,im)\n",
    "# # fig = plt.figure()\n",
    "# # plt.imshow(fronto_im)\n",
    "# cv2.imwrite('fronto_images_front.jpg', fronto_im)\n",
    "\n",
    "# Rt = get_rotation_matrix_rectification(R,'x')\n",
    "# H = get_homography(K,Rt)\n",
    "# fronto_im = get_fronto_image(H,im)\n",
    "# # fig = plt.figure()\n",
    "# # plt.imshow(fronto_im)\n",
    "# cv2.imwrite('fronto_images_side.jpg', fronto_im)\n",
    "\n",
    "# Rt = get_rotation_matrix_rectification(R,'y')\n",
    "H = get_homography(K,Rt)\n",
    "fronto_im = get_fronto_image(H,im)\n",
    "fig = plt.figure()\n",
    "plt.imshow(fronto_im)\n",
    "cv2.imwrite('fronto_images_top.jpg', fronto_im)"
   ]
  }
 ],
 "metadata": {
  "kernelspec": {
   "display_name": "Python 3",
   "language": "python",
   "name": "python3"
  },
  "language_info": {
   "codemirror_mode": {
    "name": "ipython",
    "version": 3
   },
   "file_extension": ".py",
   "mimetype": "text/x-python",
   "name": "python",
   "nbconvert_exporter": "python",
   "pygments_lexer": "ipython3",
   "version": "3.6.6"
  }
 },
 "nbformat": 4,
 "nbformat_minor": 4
}
