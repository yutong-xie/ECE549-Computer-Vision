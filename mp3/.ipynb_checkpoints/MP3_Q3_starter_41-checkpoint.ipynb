{
 "cells": [
  {
   "cell_type": "markdown",
   "metadata": {},
   "source": [
    "# Single-View Geometry (Python)\n",
    "\n",
    "## Usage\n",
    "This code snippet provides an overall code structure and some interactive plot interfaces for the *Single-View Geometry* section of Assignment 3. In [main function](#Main-function), we outline the required functionalities step by step. Some of the functions which involves interactive plots are already provided, but [the rest](#Your-implementation) are left for you to implement.\n",
    "\n",
    "## Package installation\n",
    "- You will need [GUI backend](https://matplotlib.org/faq/usage_faq.html#what-is-a-backend) to enable interactive plots in `matplotlib`.\n",
    "- In this code, we use `tkinter` package. Installation instruction can be found [here](https://anaconda.org/anaconda/tk)."
   ]
  },
  {
   "cell_type": "markdown",
   "metadata": {},
   "source": [
    "# Common imports"
   ]
  },
  {
   "cell_type": "code",
   "execution_count": 28,
   "metadata": {},
   "outputs": [],
   "source": [
    "%matplotlib tk\n",
    "import matplotlib.pyplot as plt\n",
    "import numpy as np\n",
    "import cv2\n",
    "import os\n",
    "\n",
    "from PIL import Image\n",
    "import pickle\n",
    "from sympy import *\n",
    "from skimage.transform import *"
   ]
  },
  {
   "cell_type": "markdown",
   "metadata": {},
   "source": [
    "# Provided functions"
   ]
  },
  {
   "cell_type": "code",
   "execution_count": 3,
   "metadata": {},
   "outputs": [],
   "source": [
    "def get_input_lines(im, min_lines=3):\n",
    "    \"\"\"\n",
    "    Allows user to input line segments; computes centers and directions.\n",
    "    Inputs:\n",
    "        im: np.ndarray of shape (height, width, 3)\n",
    "        min_lines: minimum number of lines required\n",
    "    Returns:\n",
    "        n: number of lines from input\n",
    "        lines: np.ndarray of shape (3, n)\n",
    "            where each column denotes the parameters of the line equation\n",
    "        centers: np.ndarray of shape (3, n)\n",
    "            where each column denotes the homogeneous coordinates of the centers\n",
    "    \"\"\"\n",
    "    n = 0\n",
    "    lines = np.zeros((3, 0))\n",
    "    centers = np.zeros((3, 0))\n",
    "\n",
    "    plt.figure()\n",
    "    plt.imshow(im)\n",
    "    print('Set at least {} lines to compute vanishing point'.format(min_lines))\n",
    "    while True:\n",
    "        print('Click the two endpoints, use the right key to undo, and use the middle key to stop input')\n",
    "        clicked = plt.ginput(2, timeout=0, show_clicks=True)\n",
    "        if not clicked or len(clicked) < 2:\n",
    "            if n < min_lines:\n",
    "                print('Need at least {} lines, you have {} now'.format(min_lines, n))\n",
    "                continue\n",
    "            else:\n",
    "                # Stop getting lines if number of lines is enough\n",
    "                break\n",
    "\n",
    "        # Unpack user inputs and save as homogeneous coordinates\n",
    "        pt1 = np.array([clicked[0][0], clicked[0][1], 1])\n",
    "        pt2 = np.array([clicked[1][0], clicked[1][1], 1])\n",
    "        # Get line equation using cross product\n",
    "        # Line equation: line[0] * x + line[1] * y + line[2] = 0\n",
    "        line = np.cross(pt1, pt2)\n",
    "        lines = np.append(lines, line.reshape((3, 1)), axis=1)\n",
    "        # Get center coordinate of the line segment\n",
    "        center = (pt1 + pt2) / 2\n",
    "        centers = np.append(centers, center.reshape((3, 1)), axis=1)\n",
    "\n",
    "        # Plot line segment\n",
    "        plt.plot([pt1[0], pt2[0]], [pt1[1], pt2[1]], color='b')\n",
    "\n",
    "        n += 1\n",
    "\n",
    "    return n, lines, centers"
   ]
  },
  {
   "cell_type": "code",
   "execution_count": 4,
   "metadata": {},
   "outputs": [],
   "source": [
    "def plot_lines_and_vp(ax, im, lines, vp):\n",
    "    \"\"\"\n",
    "    Plots user-input lines and the calculated vanishing point.\n",
    "    Inputs:\n",
    "        im: np.ndarray of shape (height, width, 3)\n",
    "        lines: np.ndarray of shape (3, n)\n",
    "            where each column denotes the parameters of the line equation\n",
    "        vp: np.ndarray of shape (3, )\n",
    "    \"\"\"\n",
    "    bx1 = min(1, vp[0] / vp[2]) - 10\n",
    "    bx2 = max(im.shape[1], vp[0] / vp[2]) + 10\n",
    "    by1 = min(1, vp[1] / vp[2]) - 10\n",
    "    by2 = max(im.shape[0], vp[1] / vp[2]) + 10\n",
    "    \n",
    "    ax.imshow(im)\n",
    "    for i in range(lines.shape[1]):\n",
    "        if lines[0, i] < lines[1, i]:\n",
    "            pt1 = np.cross(np.array([1, 0, -bx1]), lines[:, i])\n",
    "            pt2 = np.cross(np.array([1, 0, -bx2]), lines[:, i])\n",
    "        else:\n",
    "            pt1 = np.cross(np.array([0, 1, -by1]), lines[:, i])\n",
    "            pt2 = np.cross(np.array([0, 1, -by2]), lines[:, i])\n",
    "        pt1 = pt1 / pt1[2]\n",
    "        pt2 = pt2 / pt2[2]\n",
    "        ax.plot([pt1[0], pt2[0]], [pt1[1], pt2[1]], 'g')\n",
    "\n",
    "    ax.plot(vp[0] / vp[2], vp[1] / vp[2], 'ro')\n",
    "    ax.set_xlim([bx1, bx2])\n",
    "    ax.set_ylim([by2, by1])"
   ]
  },
  {
   "cell_type": "markdown",
   "metadata": {},
   "source": [
    "# Your implementation"
   ]
  },
  {
   "cell_type": "code",
   "execution_count": 5,
   "metadata": {},
   "outputs": [],
   "source": [
    "def get_vanishing_point(lines):\n",
    "    \"\"\"\n",
    "    Solves for the vanishing point using the user-input lines.\n",
    "    \"\"\"\n",
    "    # input: n, number of points\n",
    "    # input: lines, size 3 x N. Each column is the line function\n",
    "    # output: homogeneous coordinate of vanishing point\n",
    "    # suppose we have l1, l2, l3 and vanishing points p, we have:\n",
    "    # l1 * p = l2 * p = l3 * p = 0\n",
    "    # [l1 | l2 | l3] * p = 0\n",
    "    A = lines.T\n",
    "    u, s, vh = np.linalg.svd(A)\n",
    "    p = vh[-1]\n",
    "    return p"
   ]
  },
  {
   "cell_type": "code",
   "execution_count": 6,
   "metadata": {},
   "outputs": [],
   "source": [
    "def get_horizon_line(pz, px):\n",
    "    \"\"\"\n",
    "    Calculates the ground horizon line.\n",
    "    \"\"\"\n",
    "    # input: pz, px, two vanishing points in the horizontal direction\n",
    "    # output: line expression\n",
    "    line = np.cross(pz, px)\n",
    "    normalize_factor = np.sqrt(line[0]**2 + line[1]**2)\n",
    "    return line / normalize_factor"
   ]
  },
  {
   "cell_type": "code",
   "execution_count": 7,
   "metadata": {},
   "outputs": [],
   "source": [
    "def plot_horizon_line(ax, im, horizon_line):\n",
    "    \"\"\"\n",
    "    Plots the horizon line.\n",
    "    \"\"\"\n",
    "    height, width = im.shape[0:2]\n",
    "    line_x, line_y, line_z = horizon_line\n",
    "    # plot the horizontal line\n",
    "    # p_left = [0, y1, 1] and p_right = [width, y2, 1]\n",
    "    # we have horizon_line * p_left = horizon_line * p_right = 0\n",
    "    y1 = - line_z / line_y\n",
    "    y2 = - (line_z + width * line_x) / line_y\n",
    "    # p1 = np.array([0, y1, 1])\n",
    "    # p2 = np.array([width, y2, 1])\n",
    "    ax.plot([0, width], [y1, y2], 'r')\n",
    "    ax.imshow(im)"
   ]
  },
  {
   "cell_type": "code",
   "execution_count": 8,
   "metadata": {},
   "outputs": [],
   "source": [
    "def get_camera_parameters(vpts):\n",
    "    \"\"\"\n",
    "    Computes the camera parameters. Hint: The SymPy package is suitable for this.\n",
    "    \"\"\"\n",
    "    # projection_matrix = P = K[R, t]\n",
    "    # K is the camera intrinsic parameter that contains focal length and pixel center location\n",
    "    # R is the rotation matrix and t = -RC for C be the camera center in the world frame\n",
    "    # from given 3 vanishing points v1, v2, v3, we have: vi.T @ inv(K.T) @ inv(K) @ vj = 0\n",
    "    # use this fact to solve for K\n",
    "    v1, v2, v3 = vpts.T[:,:,np.newaxis]\n",
    "    f, px, py = symbols('f, px, py')\n",
    "    K = Matrix([[f, 0, px], [0, f, py], [0, 0, 1]])\n",
    "    A = K.inv().T * K.inv()\n",
    "    eq1, eq2, eq3 = (v1.T*A*v2), (v2.T*A*v3), (v3.T*A*v1)\n",
    "    sol = nsolve((eq1, eq2, eq3), (f, px, py), (1200, 0, 0))\n",
    "    focal, center_x, center_y = sol\n",
    "    K_camera = K.subs({f:focal, px:center_x, py:center_y})\n",
    "    return focal, center_x, center_y, K_camera"
   ]
  },
  {
   "cell_type": "code",
   "execution_count": 9,
   "metadata": {},
   "outputs": [],
   "source": [
    "def get_rotation_matrix(K, vpts):\n",
    "    \"\"\"\n",
    "    Computes the rotation matrix using the camera parameters.\n",
    "    \"\"\"\n",
    "    # From previous part, we have K, now we need to find R\n",
    "    # R = [r1, r2, r3]\n",
    "    # ri = inv(K) * vi\n",
    "    # vpts = [v1, v2, v3] each column of vpts is a vanishing point\n",
    "    R = np.linalg.inv(K) @ vpts\n",
    "    # we need to normalize each column of R\n",
    "    normalize_factor = np.sqrt(np.sum(R**2, axis=0))\n",
    "    R = R.T / normalize_factor[:, np.newaxis]\n",
    "    return R.T"
   ]
  },
  {
   "cell_type": "code",
   "execution_count": null,
   "metadata": {},
   "outputs": [],
   "source": [
    "def get_homography(im, R):\n",
    "    \"\"\"\n",
    "    Compute homography for transforming the image into fronto-parallel \n",
    "    views along the different axes.\n",
    "    \"\"\"\n",
    "    # im is image of size height x width x 3\n",
    "    # for each channel, we need to transform the coordinates\n",
    "    return R @ im"
   ]
  },
  {
   "cell_type": "code",
   "execution_count": 88,
   "metadata": {},
   "outputs": [],
   "source": [
    "def get_rotation_matrix_rectification(K, R, plane='XY'):\n",
    "    \"\"\"\n",
    "    Compute the rotation matrix that will be used to compute the \n",
    "    homography for rectification.\n",
    "    \"\"\"\n",
    "    # axis is the axis you look at the plane\n",
    "    # axis = 'x', 'y' or 'z'\n",
    "    E = np.eye(3);\n",
    "    if plane == 'YZ':\n",
    "        E = np.array([[0, 0, -1], [0, 1, 0], [1, 0, 0]])\n",
    "    elif plane == 'XZ':\n",
    "        E = np.array([[1, 0, 0], [0, 0, -1], [0, 1, 0]])\n",
    "    return K @ E @ np.linalg.inv(R) @ np.linalg.inv(K)"
   ]
  },
  {
   "cell_type": "markdown",
   "metadata": {},
   "source": [
    "# Main function"
   ]
  },
  {
   "cell_type": "code",
   "execution_count": 36,
   "metadata": {},
   "outputs": [],
   "source": [
    "im = np.asarray(Image.open('./data/Q3/eceb.png'))\n",
    "num_vpts = 3\n",
    "vpts = np.zeros((3, num_vpts))\n",
    "# Also loads the vanishing line data if it exists in data.pickle file. \n",
    "# data.pickle is written using snippet in the next cell.\n",
    "if os.path.exists('data.pickle'):\n",
    "    with open('data.pickle', 'rb') as f:\n",
    "        all_n, all_lines, all_centers = pickle.load(f)"
   ]
  },
  {
   "cell_type": "code",
   "execution_count": 41,
   "metadata": {
    "scrolled": false
   },
   "outputs": [
    {
     "name": "stdout",
     "output_type": "stream",
     "text": [
      "Getting vanishing point 0\n",
      "Set at least 3 lines to compute vanishing point\n",
      "Click the two endpoints, use the right key to undo, and use the middle key to stop input\n",
      "Click the two endpoints, use the right key to undo, and use the middle key to stop input\n",
      "Click the two endpoints, use the right key to undo, and use the middle key to stop input\n",
      "Click the two endpoints, use the right key to undo, and use the middle key to stop input\n",
      "Click the two endpoints, use the right key to undo, and use the middle key to stop input\n",
      "Getting vanishing point 1\n",
      "Set at least 3 lines to compute vanishing point\n",
      "Click the two endpoints, use the right key to undo, and use the middle key to stop input\n",
      "Click the two endpoints, use the right key to undo, and use the middle key to stop input\n",
      "Click the two endpoints, use the right key to undo, and use the middle key to stop input\n",
      "Click the two endpoints, use the right key to undo, and use the middle key to stop input\n",
      "Click the two endpoints, use the right key to undo, and use the middle key to stop input\n",
      "Getting vanishing point 2\n",
      "Set at least 3 lines to compute vanishing point\n",
      "Click the two endpoints, use the right key to undo, and use the middle key to stop input\n",
      "Click the two endpoints, use the right key to undo, and use the middle key to stop input\n",
      "Click the two endpoints, use the right key to undo, and use the middle key to stop input\n",
      "Click the two endpoints, use the right key to undo, and use the middle key to stop input\n",
      "Click the two endpoints, use the right key to undo, and use the middle key to stop input\n"
     ]
    }
   ],
   "source": [
    "# Click and save the line data for vanishing points. This snippet \n",
    "# opens up an interface for selecting points and writes them to \n",
    "# data.pickle file. The file is over-written.\n",
    "\n",
    "# num_vpts = 3\n",
    "all_n, all_lines, all_centers = [], [], []\n",
    "\n",
    "for i in range(num_vpts):\n",
    "    print('Getting vanishing point {}'.format(i))\n",
    "    fig = plt.figure(); ax = fig.gca()\n",
    "    \n",
    "    # Get at least three lines from user input\n",
    "    n_i, lines_i, centers_i = get_input_lines(im)\n",
    "    all_n.append(n_i)\n",
    "    all_lines.append(lines_i)\n",
    "    all_centers.append(centers_i)\n",
    "\n",
    "with open('data.pickle', 'wb') as f:\n",
    "    pickle.dump([all_n, all_lines, all_centers], f)"
   ]
  },
  {
   "cell_type": "code",
   "execution_count": 42,
   "metadata": {},
   "outputs": [],
   "source": [
    "# Part (a)\n",
    "# Computing vanishing points for each of the directions\n",
    "# vpts = np.zeros((3, num_vpts))\n",
    "\n",
    "for i in range(num_vpts):\n",
    "    fig = plt.figure(); ax = fig.gca()\n",
    "    \n",
    "    # <YOUR CODE> Solve for vanishing point\n",
    "    vpts[:, i] = get_vanishing_point(all_lines[i])\n",
    "    \n",
    "    # Plot the lines and the vanishing point\n",
    "    plot_lines_and_vp(ax, im, all_lines[i], vpts[:, i])\n",
    "    fig.savefig('Q3_vp{:d}.pdf'.format(i), bbox_inches='tight')"
   ]
  },
  {
   "cell_type": "code",
   "execution_count": 43,
   "metadata": {
    "scrolled": true
   },
   "outputs": [],
   "source": [
    "# Part (b) Computing and plotting the horizon\n",
    "# <YOUR CODE> Get the ground horizon line\n",
    "horizon_line = get_horizon_line(vpts[:, 0], vpts[:, 2])\n",
    "\n",
    "# <YOUR CODE> Plot the ground horizon line\n",
    "fig = plt.figure(); ax = fig.gca()\n",
    "plot_horizon_line(ax, im, horizon_line)\n",
    "fig.savefig('Q3_horizon.pdf', bbox_inches='tight')"
   ]
  },
  {
   "cell_type": "code",
   "execution_count": 44,
   "metadata": {},
   "outputs": [
    {
     "name": "stdout",
     "output_type": "stream",
     "text": [
      "1051.33063285468 788.565717728718 1208.94098840478\n"
     ]
    },
    {
     "data": {
      "text/latex": [
       "$\\displaystyle \\left[\\begin{matrix}1208.94098840478 & 0 & 1051.33063285468\\\\0 & 1208.94098840478 & 788.565717728718\\\\0 & 0 & 1\\end{matrix}\\right]$"
      ],
      "text/plain": [
       "Matrix([\n",
       "[1208.94098840478,                0, 1051.33063285468],\n",
       "[               0, 1208.94098840478, 788.565717728718],\n",
       "[               0,                0,                1]])"
      ]
     },
     "metadata": {},
     "output_type": "display_data"
    }
   ],
   "source": [
    "# Part (c) Computing Camera Parameters\n",
    "# <YOUR CODE> Solve for the camera parameters (f, u, v)\n",
    "f, u, v, K = get_camera_parameters(vpts)\n",
    "print(u, v, f)\n",
    "display(K)\n",
    "K = np.array(K.tolist()).astype(np.float64)"
   ]
  },
  {
   "cell_type": "code",
   "execution_count": 45,
   "metadata": {},
   "outputs": [
    {
     "name": "stdout",
     "output_type": "stream",
     "text": [
      "[[ 0.96335513 -0.00552047 -0.26817236]\n",
      " [-0.10719307  0.90855781 -0.40377265]\n",
      " [ 0.24587911  0.41772267  0.87467207]]\n"
     ]
    }
   ],
   "source": [
    "# Part (d) Computing Rotation Matrices\n",
    "# <YOUR CODE> Solve for the rotation matrix\n",
    "R = get_rotation_matrix(K, vpts)\n",
    "print(R)"
   ]
  },
  {
   "cell_type": "code",
   "execution_count": null,
   "metadata": {},
   "outputs": [],
   "source": [
    "# Part (e) Generating fronto-parallel warps. Compute the \n",
    "# appropriate rotation to transform the world coordinates\n",
    "# such that the axis of projection becomes the world\n",
    "# X, Y and Z axes respectively. Use this rotation to estimate\n",
    "# a homography that will be used to compute the output view.\n",
    "# Apply the homography to generate the 3 fronto-parallel\n",
    "# views and save them.\n",
    "\n",
    "Rt = get_rotation_matrix_rectification()\n",
    "H = get_homography()\n",
    "\n",
    "fig = plt.figure(); ax = fig.gca()\n",
    "# cv2.imwrite('Q3_im{:d}.jpg'.format(i), im_dst,\n",
    "#             [int(cv2.IMWRITE_JPEG_QUALITY), 90])"
   ]
  },
  {
   "cell_type": "code",
   "execution_count": 184,
   "metadata": {},
   "outputs": [],
   "source": [
    "def plot_panorama(ax, img):\n",
    "    ax.set_aspect('equal')\n",
    "    ax.imshow(img, cmap='gray')\n",
    "    ax.axis('off')\n",
    "\n",
    "def compute_homography(im, T):\n",
    "    \"\"\"\n",
    "    write your code to compute homography according to the matches\n",
    "    \"\"\"\n",
    "    # <YOUR CODE>\n",
    "    # h is the transformation if fixed img2, how img1 is transformed\n",
    "    # first find the range of image indices\n",
    "    height, width = im.shape[0:2]\n",
    "    corners = np.array([[0, 0, 1], [0, height-1, 1], [width-1, height-1, 1], [width-1, 0, 1]]).T\n",
    "    new_corners = T @ corners\n",
    "    new_corners = new_corners[0:2, :] / new_corners[2:3, :]\n",
    "    # find the range of the new_corners\n",
    "    xmin, xmax = np.min(new_corners[0, :]), np.max(new_corners[0, :])\n",
    "    ymin, ymax = np.min(new_corners[1, :]), np.max(new_corners[1, :])\n",
    "    # now the image should range from xmin to width2, from ymin to height2\n",
    "    yrange = np.ceil(ymax - ymin)\n",
    "    xrange = np.ceil(xmax - xmin)\n",
    "    # now we know we need to do a translation to the image\n",
    "    xshift = -xmin\n",
    "    yshift = -ymin\n",
    "    \n",
    "    \n",
    "#     # shift and range for YZ\n",
    "#     xshift = 5500\n",
    "#     yshift = 0\n",
    "#     yrange = 4000\n",
    "#     xrange = 6000\n",
    "\n",
    "#     # shift and range for XZ\n",
    "#     xshift = 1700\n",
    "#     yshift = 4500\n",
    "#     yrange = 5000\n",
    "#     xrange = 7500\n",
    "    \n",
    "    \n",
    "    affine = np.array([[1, 0, xshift],\n",
    "                       [0, 1, yshift],\n",
    "                       [0, 0,      1]])\n",
    "    T_warp = affine @ T\n",
    "      \n",
    "    im_warped = warp(im, np.linalg.inv(T_warp), output_shape=(yrange, xrange))\n",
    "    \n",
    "    \n",
    "    new_new_corners = T_warp @ corners\n",
    "    new_new_corners = new_new_corners[0:2, :] / new_new_corners[2:3, :]\n",
    "\n",
    "#     fig, ax = plt.subplots(figsize=(20,10))\n",
    "#     plot_panorama(ax, im_warped)\n",
    "    return im_warped, T_warp, (xshift, yshift), (yrange, xrange), new_corners, new_new_corners"
   ]
  },
  {
   "cell_type": "code",
   "execution_count": 188,
   "metadata": {},
   "outputs": [],
   "source": [
    "T = get_rotation_matrix_rectification(K, R, plane='YZ')\n",
    "im_warped, T_warp, shift, im_range, new_corners, new_new_corners = compute_homography(im, T)"
   ]
  },
  {
   "cell_type": "code",
   "execution_count": 138,
   "metadata": {
    "scrolled": true
   },
   "outputs": [
    {
     "name": "stdout",
     "output_type": "stream",
     "text": [
      "(-51.68170270962833, 1018.2181496415719)\n",
      "(3018.0, 4176.0)\n",
      "[[ 4227.35180499  2628.6399376    548.7874986     51.68170271]\n",
      " [ 1182.56219286 -1018.21814964  1998.80178512   592.97361538]]\n",
      "[[4175.67010228 2576.95823489  497.10579589    0.        ]\n",
      " [2200.7803425     0.         3017.01993476 1611.19176503]]\n"
     ]
    }
   ],
   "source": [
    "print(shift)\n",
    "print(im_range)\n",
    "print(new_corners)\n",
    "print(new_new_corners)"
   ]
  },
  {
   "cell_type": "code",
   "execution_count": 186,
   "metadata": {},
   "outputs": [],
   "source": [
    "fig, ax = plt.subplots(figsize=(20,10))\n",
    "plot_panorama(ax, im_warped)\n",
    "# ax.plot(new_new_corners[0,:], new_new_corners[1, :], '+r')"
   ]
  },
  {
   "cell_type": "code",
   "execution_count": 85,
   "metadata": {},
   "outputs": [
    {
     "name": "stdout",
     "output_type": "stream",
     "text": [
      "[[ 0.96335513 -0.00552047 -0.26817236]\n",
      " [-0.10719307  0.90855781 -0.40377265]\n",
      " [ 0.24587911  0.41772267  0.87467207]]\n"
     ]
    }
   ],
   "source": [
    "print(R)"
   ]
  },
  {
   "cell_type": "code",
   "execution_count": 108,
   "metadata": {},
   "outputs": [
    {
     "name": "stdout",
     "output_type": "stream",
     "text": [
      "[[   0    0 2047 2047]\n",
      " [   0 1535 1535    0]\n",
      " [   1    1    1    1]]\n",
      "[[ 4227.35180499  2628.6399376    548.7874986     51.68170271]\n",
      " [ 1182.56219286 -1018.21814964  1998.80178512   592.97361538]]\n",
      "[[4175.67010228 2576.95823489  497.10579589    0.        ]\n",
      " [2200.7803425     0.         3017.01993476 1611.19176503]]\n",
      "3018.0 4176.0\n"
     ]
    }
   ],
   "source": [
    "np.set_printoptions(suppress=True)\n",
    "height, width = im.shape[0:2]\n",
    "corners = np.array([[0, 0, 1], [0, height-1, 1], [width-1, height-1, 1], [width-1, 0, 1]]).T\n",
    "new_corners = T @ corners\n",
    "new_corners = new_corners[0:2, :] / new_corners[2:3, :]\n",
    "xmin, xmax = np.min(new_corners[0, :]), np.max(new_corners[0, :])\n",
    "ymin, ymax = np.min(new_corners[1, :]), np.max(new_corners[1, :])\n",
    "# now the image should range from xmin to width2, from ymin to height2\n",
    "yrange = np.ceil(ymax - ymin)\n",
    "xrange = np.ceil(xmax - xmin)\n",
    "# now we know we need to do a translation to the image\n",
    "xshift = -xmin\n",
    "yshift = -ymin\n",
    "\n",
    "\n",
    "# xshift = 5500\n",
    "# yshift = 0\n",
    "# yrange = 4000\n",
    "# xrange = 6000\n",
    "\n",
    "\n",
    "affine = np.array([[1, 0, xshift],\n",
    "                   [0, 1, yshift],\n",
    "                   [0, 0,      1]])\n",
    "T_warp = affine @ T\n",
    "new_new_corners = T_warp @ corners\n",
    "new_new_corners = new_new_corners[0:2, :] / new_new_corners[2:3, :]\n",
    "print(corners)\n",
    "print(new_corners)\n",
    "print(new_new_corners)\n",
    "print(yrange, xrange)"
   ]
  },
  {
   "cell_type": "code",
   "execution_count": 133,
   "metadata": {},
   "outputs": [
    {
     "data": {
      "text/plain": [
       "[<matplotlib.lines.Line2D at 0x127dfa350>]"
      ]
     },
     "execution_count": 133,
     "metadata": {},
     "output_type": "execute_result"
    }
   ],
   "source": [
    "fig22, ax22 = plt.subplots(figsize=(20,10))\n",
    "ax22.plot(new_corners[0,:], new_corners[1, :], '+r')\n"
   ]
  },
  {
   "cell_type": "code",
   "execution_count": 135,
   "metadata": {},
   "outputs": [
    {
     "name": "stdout",
     "output_type": "stream",
     "text": [
      "[[ 4227.35180499  2628.6399376    548.7874986     51.68170271]\n",
      " [ 1182.56219286 -1018.21814964  1998.80178512   592.97361538]]\n"
     ]
    }
   ],
   "source": [
    "print(new_corners)"
   ]
  },
  {
   "cell_type": "code",
   "execution_count": null,
   "metadata": {},
   "outputs": [],
   "source": []
  },
  {
   "cell_type": "code",
   "execution_count": 167,
   "metadata": {},
   "outputs": [],
   "source": [
    "x, y = np.arange(2047), np.arange(1535)\n",
    "xx, yy = np.meshgrid(x, y)\n",
    "# fig, ax = plt.subplots(figsize=(20,10))"
   ]
  },
  {
   "cell_type": "code",
   "execution_count": 192,
   "metadata": {},
   "outputs": [],
   "source": [
    "out_shape = (1000, 1000)\n",
    "coordinate = np.vstack((xx.reshape(-1), yy.reshape(-1)))\n",
    "coordinate = np.vstack((coordinate, np.ones_like(xx.reshape(-1))))\n",
    "new_co = T_warp @ coordinate\n",
    "# new_co = new_co[0:2, :] / new_co[2:3, :]\n",
    "# new_co = new_co[0:2, :]"
   ]
  },
  {
   "cell_type": "code",
   "execution_count": 155,
   "metadata": {},
   "outputs": [],
   "source": [
    "def helper_plot(co):\n",
    "    plt.figure()\n",
    "    plt.plot(co[0, :], co[1, :], '+r')\n",
    "    plt.show()"
   ]
  },
  {
   "cell_type": "code",
   "execution_count": 169,
   "metadata": {},
   "outputs": [],
   "source": [
    "helper_plot(new_corners)\n",
    "helper_plot(new_new_corners)"
   ]
  },
  {
   "cell_type": "code",
   "execution_count": 170,
   "metadata": {},
   "outputs": [
    {
     "name": "stdout",
     "output_type": "stream",
     "text": [
      "[[   0    0 2047 2047]\n",
      " [   0 1535 1535    0]\n",
      " [   1    1    1    1]]\n"
     ]
    }
   ],
   "source": [
    "print(corners)"
   ]
  },
  {
   "cell_type": "code",
   "execution_count": 189,
   "metadata": {},
   "outputs": [],
   "source": [
    "helper_plot(coordinate[0:2, :])"
   ]
  },
  {
   "cell_type": "code",
   "execution_count": 190,
   "metadata": {},
   "outputs": [],
   "source": [
    "helper_plot(new_co)"
   ]
  },
  {
   "cell_type": "code",
   "execution_count": 193,
   "metadata": {},
   "outputs": [
    {
     "name": "stdout",
     "output_type": "stream",
     "text": [
      "4.19539906149069e-08\n"
     ]
    }
   ],
   "source": [
    "print(np.min())"
   ]
  },
  {
   "cell_type": "code",
   "execution_count": 196,
   "metadata": {},
   "outputs": [
    {
     "name": "stdout",
     "output_type": "stream",
     "text": [
      "(array([ 938232,  956656,  975080,  993504, 1011928, 1030352, 1048776,\n",
      "       1067200, 1085624, 1104048, 1122472, 1140896, 1159320, 1177744,\n",
      "       1196168, 1214592, 1233016, 1251440, 2373257, 2391681, 2410105,\n",
      "       2428529, 2446953, 2465377, 2483801, 2502225, 2520649, 2539073,\n",
      "       2557497, 2575921, 2594345, 2612769, 2631193, 2649617, 2668041]),)\n"
     ]
    }
   ],
   "source": [
    "abs_list = np.absolute(new_co[2, :])\n",
    "infi_point = np.where(abs_list < 1e-5)\n",
    "print(infi_point)"
   ]
  },
  {
   "cell_type": "code",
   "execution_count": null,
   "metadata": {},
   "outputs": [],
   "source": []
  }
 ],
 "metadata": {
  "kernelspec": {
   "display_name": "Python 3",
   "language": "python",
   "name": "python3"
  },
  "language_info": {
   "codemirror_mode": {
    "name": "ipython",
    "version": 3
   },
   "file_extension": ".py",
   "mimetype": "text/x-python",
   "name": "python",
   "nbconvert_exporter": "python",
   "pygments_lexer": "ipython3",
   "version": "3.6.6"
  }
 },
 "nbformat": 4,
 "nbformat_minor": 2
}
